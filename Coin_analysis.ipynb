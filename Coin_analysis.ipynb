{
  "nbformat": 4,
  "nbformat_minor": 0,
  "metadata": {
    "colab": {
      "provenance": []
    },
    "kernelspec": {
      "name": "python3",
      "display_name": "Python 3"
    },
    "language_info": {
      "name": "python"
    }
  },
  "cells": [
    {
      "cell_type": "markdown",
      "source": [
        "Get response from CMC API"
      ],
      "metadata": {
        "id": "678OqsbOWuBt"
      }
    },
    {
      "cell_type": "code",
      "source": [
        "import requests\n",
        "\n",
        "url = 'https://pro-api.coinmarketcap.com/v1/global-metrics/quotes/historical'\n",
        "headers = {\n",
        "    'X-CMC_PRO_API_KEY': '569f48ec-279b-4e61-b380-b409c5a813ea',\n",
        "    'Accept': 'application/json'\n",
        "}\n",
        "params = {\n",
        "    'start': '1',\n",
        "    'limit': '5000',\n",
        "    'convert': 'USD'\n",
        "}\n",
        "\n",
        "response = requests.get(url, headers=headers, params=params)\n",
        "\n",
        "import json\n",
        "\n",
        "# Check if the request was successful (status code 200)\n",
        "if response.status_code == 200:\n",
        "    data = response.json()\n",
        "    # Save the JSON response to a file\n",
        "    with open('response.json', 'w') as file:\n",
        "        json.dump(data, file)\n",
        "    print(\"Request successful. JSON response saved to file.\")\n",
        "else:\n",
        "    print(f\"Error: {response.status_code}\")\n",
        "\n"
      ],
      "metadata": {
        "colab": {
          "base_uri": "https://localhost:8080/"
        },
        "id": "AG4AaRBjU6Yv",
        "outputId": "21fd3f8f-e2ef-4efd-a241-31b05aa646aa"
      },
      "execution_count": 22,
      "outputs": [
        {
          "output_type": "stream",
          "name": "stdout",
          "text": [
            "Error: 403\n"
          ]
        }
      ]
    },
    {
      "cell_type": "markdown",
      "source": [
        "Paid service \\:("
      ],
      "metadata": {
        "id": "Byh4LeJzaCIj"
      }
    }
  ]
}